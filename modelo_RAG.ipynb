{
 "cells": [
  {
   "cell_type": "markdown",
   "metadata": {
    "id": "KpjlSL7YxkZM"
   },
   "source": [
    "## Cargar el documento\n",
    "\n"
   ]
  },
  {
   "cell_type": "code",
   "execution_count": 1,
   "metadata": {
    "colab": {
     "base_uri": "https://localhost:8080/"
    },
    "executionInfo": {
     "elapsed": 2926,
     "status": "ok",
     "timestamp": 1748543809797,
     "user": {
      "displayName": "Tomás Fonta García",
      "userId": "18093753916040275178"
     },
     "user_tz": -120
    },
    "id": "l07CJpspyFyj",
    "outputId": "944c2792-677a-4f21-cb27-3ea8d4032629"
   },
   "outputs": [
    {
     "name": "stdout",
     "output_type": "stream",
     "text": [
      "Collecting PyPDF2\n",
      "  Downloading pypdf2-3.0.1-py3-none-any.whl.metadata (6.8 kB)\n",
      "Downloading pypdf2-3.0.1-py3-none-any.whl (232 kB)\n",
      "\u001b[?25l   \u001b[90m━━━━━━━━━━━━━━━━━━━━━━━━━━━━━━━━━━━━━━━━\u001b[0m \u001b[32m0.0/232.6 kB\u001b[0m \u001b[31m?\u001b[0m eta \u001b[36m-:--:--\u001b[0m\r\u001b[2K   \u001b[90m━━━━━━━━━━━━━━━━━━━━━━━━━━━━━━━━━━━━━━━━\u001b[0m \u001b[32m232.6/232.6 kB\u001b[0m \u001b[31m18.4 MB/s\u001b[0m eta \u001b[36m0:00:00\u001b[0m\n",
      "\u001b[?25hInstalling collected packages: PyPDF2\n",
      "Successfully installed PyPDF2-3.0.1\n"
     ]
    }
   ],
   "source": [
    "!pip install PyPDF2"
   ]
  },
  {
   "cell_type": "code",
   "execution_count": 2,
   "metadata": {
    "colab": {
     "base_uri": "https://localhost:8080/"
    },
    "executionInfo": {
     "elapsed": 5248,
     "status": "ok",
     "timestamp": 1748543831353,
     "user": {
      "displayName": "Tomás Fonta García",
      "userId": "18093753916040275178"
     },
     "user_tz": -120
    },
    "id": "mkwfHspK0mXa",
    "outputId": "b8231fa0-fb55-44b5-8a98-25d69070fdf7"
   },
   "outputs": [
    {
     "name": "stdout",
     "output_type": "stream",
     "text": [
      " \n",
      " APUNTES DE HISTORIA DE ESPAÑA    \n",
      "2º BACHILLERATO  \n",
      " \n",
      " \n",
      "IES SAAVEDRA FAJARDO.       CURSO 2018 -19 \n",
      "\n",
      "TEMARIO HISTORIA DE ESPAÑA.    CURSO 2018 -19 \n",
      "1. La romanización  \n",
      "2. Al-Ándalus: evolución política  \n",
      "3. Castilla y Aragón en la Baja Edad Media  \n",
      "4. Reyes Católicos  \n",
      "5. Austrias Mayores: política exterior  \n",
      "6. El reformismo borbónico en el siglo XVIII  \n",
      "7. Las Cortes de Cádiz. La Constitución de 1812  \n",
      "8. Absolutismo frente a liberalismo. Evolución política del reinado de Fernando VII.  \n",
      "9. Revolución liberal en el reinado de Isabel II. Carlismo y guerra civil. Construcción y evolución del \n",
      "Estado liberal.  \n",
      "10. Transformaciones económicas del siglo XIX: las desamortizaciones.  \n",
      "11. El Sex enio Revolucionario (1868 -1874)  \n",
      "12. El régimen de la Restauración. Características y funcionamiento del sistema canovista.  \n",
      "13. Panorama general del reinado de Alfonso XIII. Intentos de modernización: el Regeneracionismo y \n",
      "crisis socio -económicas (1902 -1923)  \n",
      "14. La dictadura de Primo de Rivera . \n",
      "15. La Segunda República.  \n",
      "16. La Guerra Ci vil. (1936 -1939) .  \n",
      "      17.El Estado franquista.  \n",
      "      18.La Transición a la democracia.  \n",
      " \n",
      "TEXTOS  \n",
      "SIGLO XIX  \n",
      "Texto 1. Algunos artículos de la Constitución de 1812.  \n",
      "Texto 2. Manifiesto de los persas. 1814.  \n",
      "Texto 3. El convenio de Vergara. 31 de agosto de 1839.  \n",
      "Texto 4. Real Decreto declarando la venta de bienes del clero (19 de febrero de 1836).  \n",
      "Texto 5.   Abdicación de Amadeo I de Saboya  \n",
      "Texto 6. Manifiesto de Sandhurst. 1 de diciembre de 1874.  \n",
      " \n",
      "SIGLO XX  \n",
      "Texto 7.  Manifiesto Huelga 1917 . \n",
      "Texto 8. Manifiesto de Primo de Rivera. 1923.  \n",
      "Texto 9. Algunos artículos de la Constitución de 1931.  \n",
      "Texto 10. Fragmento del discurso de Manuel Azaña en el Ayuntamiento de Barcelona. 18 de julio de 1938.  \n",
      "Texto 11. Algunos ar tículos del Fuero de los Españoles. 1945.  \n",
      "Texto 12. Algunos artículos de la Constitución de 1978.  \n",
      "IES SAAVEDRA FAJARDO                                   2º BACHILLERATO                   \n"
     ]
    }
   ],
   "source": [
    "from PyPDF2 import PdfReader\n",
    "\n",
    "# Abrir el archivo PDF en modo binario\n",
    "with open(\"/content/apuntes.pdf\", \"rb\") as file:\n",
    "    reader = PdfReader(file)\n",
    "    all_text = \"\"\n",
    "    for page in reader.pages:\n",
    "        all_text += page.extract_text() + \"\\n\"\n",
    "\n",
    "# Mostrar un fragmento del texto extraído para asegurarnos de que funciona\n",
    "print(all_text[:2000])"
   ]
  },
  {
   "cell_type": "markdown",
   "metadata": {
    "id": "nXR7uL4P4caf"
   },
   "source": [
    "## Preparación y segmentación (chunking temático)\n",
    "\n",
    "En esta fase se llevó a cabo la extracción automática de los contenidos del documento PDF, estructurado por temas del 1 al 18.\n",
    "\n",
    "Una vez localizados los títulos, el texto se segmentó en bloques temáticos completos, desde el inicio de cada tema hasta el comienzo del siguiente. Cada bloque fue almacenado en un diccionario denominado **chunks_all**, donde cada entrada contiene tanto el título como el contenido íntegro del tema correspondiente.\n",
    "\n",
    "Este tipo de segmentación temáticamente informada es fundamental para un sistema RAG (Retrieval-Augmented Generation), ya que permite una recuperación precisa del contexto relevante, favoreciendo respuestas más coherentes y específicas por parte del modelo generativo."
   ]
  },
  {
   "cell_type": "code",
   "execution_count": 3,
   "metadata": {
    "colab": {
     "base_uri": "https://localhost:8080/"
    },
    "executionInfo": {
     "elapsed": 95,
     "status": "ok",
     "timestamp": 1748543837647,
     "user": {
      "displayName": "Tomás Fonta García",
      "userId": "18093753916040275178"
     },
     "user_tz": -120
    },
    "id": "F_o6u68V0sBz",
    "outputId": "0582a978-ffc6-4432-a673-3a90717546bb"
   },
   "outputs": [
    {
     "name": "stdout",
     "output_type": "stream",
     "text": [
      "{'1': {'inicio': 'TEMA 1: LA ROMANIZACIÓN  \\n'\n",
      "                 'I. INTRODUCCIÓN  \\n'\n",
      "                 ' Se entiende por romanización  el proceso de adaptación de '\n",
      "                 'los pueblos hispanos, a veces por la \\n'\n",
      "                 'fuerza, a las estructuras económicas, sociales, políticas y '\n",
      "                 'culturales del Imperio romano. Con el \\n'\n",
      "                 'tiempo habría de suponer la desaparición de muchos usos y co',\n",
      "       'titulo': 'TEMA 1: LA ROMANIZACIÓN'},\n",
      " '10': {'inicio': 'TEMA 10. Transformaciones económicas del siglo XIX: las '\n",
      "                  'desamortizaciones.  \\n'\n",
      "                  ' \\n'\n",
      "                  'I.-INTRODUCCIÓN  \\n'\n",
      "                  '\\n'\n",
      "                  'IES SAAVEDRA FAJARDO                                   2º '\n",
      "                  'BACHILLERATO                                                     '\n",
      "                  'HI STORIA DE ESPAÑA  \\n'\n",
      "                  ' \\n'\n",
      "                  '95 \\n'\n",
      "                  ' La desamortización supone la incautación estatal d',\n",
      "        'titulo': 'TEMA 10'},\n",
      " '11': {'inicio': 'TEMA 11:  El Sexenio Revolucionario (1868 -1874)  \\n'\n",
      "                  'I.- Introducción  \\n'\n",
      "                  '\\n'\n",
      "                  'IES SAAVEDRA FAJARDO                                   2º '\n",
      "                  'BACHILLERATO                                                     '\n",
      "                  'HI STORIA DE ESPAÑA  \\n'\n",
      "                  ' \\n'\n",
      "                  '103 \\n'\n",
      "                  ' Se conoce como Sexenio Democrático o Sexenio '\n",
      "                  'Revolucionario al periodo de la',\n",
      "        'titulo': 'TEMA 11:  El Sexenio Revolucionario (1868 -1874)'},\n",
      " '12': {'inicio': 'Tema  12. El régimen de la Restauración. Características y '\n",
      "                  'funcionamiento del sistema canovista \\n'\n",
      "                  '(1874 -1902) \\n'\n",
      "                  'I.- Introducción.  \\n'\n",
      "                  '\\n'\n",
      "                  'IES SAAVEDRA FAJARDO                                   2º '\n",
      "                  'BACHILLERATO                                                     '\n",
      "                  'HI STORIA DE ESPAÑA  \\n'\n",
      "                  ' \\n'\n",
      "                  '114 \\n'\n",
      "                  ' El régimen de l',\n",
      "        'titulo': 'Tema  12'},\n",
      " '13': {'inicio': 'Tema 13 Panorama general del reinado d e Alfonso XIII. '\n",
      "                  'Intentos de modernización: el \\n'\n",
      "                  'Regeneracionismo y crisis socio -económicas (1902 '\n",
      "                  '-1923).  \\n'\n",
      "                  'Texto 7. Manifiesto huelga revolucionaria 1917',\n",
      "        'titulo': 'Tema 13 Panorama general del reinado d e Alfonso XIII'},\n",
      " '14': {'inicio': 'Tema 14 : La dictadura de Primo de Rivera. (1923 -1930)  \\n'\n",
      "                  ' \\n'\n",
      "                  '1.- Introducción.  \\n'\n",
      "                  '\\n'\n",
      "                  'IES SAAVEDRA FAJARDO                                   2º '\n",
      "                  'BACHILLERATO                                                     '\n",
      "                  'HI STORIA DE ESPAÑA  \\n'\n",
      "                  ' \\n'\n",
      "                  '136 \\n'\n",
      "                  ' Miguel Primo de Rivera , Capitán General de Cataluña, se '\n",
      "                  'sublevó e',\n",
      "        'titulo': 'Tema 14 : La dictadura de Primo de Rivera'},\n",
      " '15': {'inicio': 'Tema 15: La Segunda República (1931 -36) \\n'\n",
      "                  ' La Constitución de 1931 y el bienio reformista. El bienio '\n",
      "                  'de centro derecha. Frente \\n'\n",
      "                  'Popular.   \\n'\n",
      "                  'I.- Introducción  \\n'\n",
      "                  'La Segunda República (1931 -1936) fue una etapa relevante '\n",
      "                  'de la historia de España del siglo XX \\n'\n",
      "                  'en la que se abordó un intento de modernizac',\n",
      "        'titulo': 'Tema 15: La Segunda República (1931 -36)'},\n",
      " '16': {'inicio': 'Tema 16. LA GUERRA CIVIL. 1936 A 1939  \\n'\n",
      "                  '\\n'\n",
      "                  'Historia de España               2º  '\n",
      "                  'bachillerato                                            IES '\n",
      "                  'Saavedra Fajardo  \\n'\n",
      "                  ' \\n'\n",
      "                  '157 \\n'\n",
      "                  ' I.-INTRODUCCIÓN  \\n'\n",
      "                  'El 18 de julio de 1936 un grupo de generales se rebelaron '\n",
      "                  'contra la república. Esperaban un \\n'\n",
      "                  'rápido triunfo del pronu',\n",
      "        'titulo': 'Tema 16'},\n",
      " '17': {'inicio': 'TEMA 17. EL ESTADO FRANQUISTA 1939 -1975  \\n'\n",
      "                  '1. INTRODUCCIÓN  \\n'\n",
      "                  'El 1 de abril de 1939 termina la guerra y empieza una nueva '\n",
      "                  'etapa: una dictadura militar dirigida \\n'\n",
      "                  'por el general Franco, vencedor de la Guerra Civil, ello '\n",
      "                  'supone una represión sistemática de los \\n'\n",
      "                  'republicanos, apoyado por el ejército, la ',\n",
      "        'titulo': 'TEMA 17'},\n",
      " '18': {'inicio': 'Tema 18. La Transición a la democracia.  \\n'\n",
      "                  'I.-Introducción.  \\n'\n",
      "                  '\\n'\n",
      "                  'Historia de España               2º  '\n",
      "                  'bachillerato                                            IES '\n",
      "                  'Saavedra Fajardo  \\n'\n",
      "                  ' \\n'\n",
      "                  '183 \\n'\n",
      "                  ' El fin de la dictadura del general Franco dio paso a una '\n",
      "                  'monarquía encabezada por Juan Carlos \\n'\n",
      "                  'I de Borbón , nombr',\n",
      "        'titulo': 'Tema 18'},\n",
      " '2': {'inicio': 'TEMA 2: Al -Ándalus: evolución política  \\n'\n",
      "                 'I. INTRODUCCIÓN. LA CONQUISTA MUSULMANA DE LA PENÍNSULA.  \\n'\n",
      "                 'El Islam es una religión nacida en Arabia en el S VII, que '\n",
      "                 'se extiende con gran rapidez por \\n'\n",
      "                 'Oriente  próximo , el Mediterr áneo oriental y norte de '\n",
      "                 'África. Tras la invasión musulmana del \\n'\n",
      "                 '711, la ma',\n",
      "       'titulo': 'TEMA 2: Al -Ándalus: evolución política'},\n",
      " '3': {'inicio': 'TEMA 3: Castilla y Aragón en la Baja Edad Media  \\n'\n",
      "                 ' \\n'\n",
      "                 'I.INTRODUCCIÓN  \\n'\n",
      "                 'A partir del siglo X la hegemonía musulmana en la Península '\n",
      "                 'es cuestionada por los reinos \\n'\n",
      "                 'cristianos que consolidan su presencia en el  territorio. '\n",
      "                 'Estos reinos mostrarán una clara \\n'\n",
      "                 '\\n'\n",
      "                 'IES SAAVEDRA FAJARDO                           ',\n",
      "       'titulo': 'TEMA 3: Castilla y Aragón en la Baja Edad Media'},\n",
      " '4': {'inicio': 'Tema 4.LOS REYES CATÓLICOS: CONSTRUCCIÓN DEL ESTADO '\n",
      "                 'MODERNO  \\n'\n",
      "                 '\\n'\n",
      "                 'IES SAAVEDRA FAJARDO                                   2º '\n",
      "                 'BACHILLERATO                                                     '\n",
      "                 'HI STORIA DE ESPAÑA  \\n'\n",
      "                 ' \\n'\n",
      "                 '32 \\n'\n",
      "                 ' I.INTRODUCCIÓN.  \\n'\n",
      "                 ' El reinado de los Reyes Católicos (1479 -1516) se '\n",
      "                 'caracterizó por ',\n",
      "       'titulo': 'Tema 4'},\n",
      " '5': {'inicio': 'TEMA 5. AUSTRIAS MAYORES: POLÍTICA EXTERIOR  \\n'\n",
      "                 'I. INTRODUCCIÓN  \\n'\n",
      "                 'Durante el  siglo XVI, en los reinados de Carlos I y Felipe '\n",
      "                 'II , España desempeñaría un \\n'\n",
      "                 'papel preponderante en la política europea fundamentado en '\n",
      "                 'la vasta extensión de sus \\n'\n",
      "                 'dominios, que incluían las posesiones en el continente '\n",
      "                 'americ',\n",
      "       'titulo': 'TEMA 5'},\n",
      " '7': {'inicio': 'TEMA 7. Las Cortes de Cádiz. La Constitución de 1812.  \\n'\n",
      "                 'I.- INTRODUCCIÓN  \\n'\n",
      "                 'El inicio de la Guerra de la Independencia en 1808 marca el '\n",
      "                 'comienzo de la Historia Contemporánea \\n'\n",
      "                 'de España.  N o solo fue un levantamiento contra los '\n",
      "                 'franceses, también fue una revolución para \\n'\n",
      "                 'acabar con el Antiguo Régimen',\n",
      "       'titulo': 'TEMA 7'},\n",
      " '8': {'inicio': 'Tema 8: Absolutismo frente a liberalismo. Evolución política '\n",
      "                 'del \\n'\n",
      "                 'reinado de Fernando VII (1814 -1833)  \\n'\n",
      "                 ' \\n'\n",
      "                 'I.- INTRODUCCIÓN.  \\n'\n",
      "                 ' \\n'\n",
      "                 'Fernando VII vuelve al trono de España tras la '\n",
      "                 'finalización \\n'\n",
      "                 'de la Guerra de Independencia y lo establecido en el '\n",
      "                 'tratado \\n'\n",
      "                 'de Valençay en 1813. En este Napoleón lo reconoc',\n",
      "       'titulo': 'Tema 8: Absolutismo frente a liberalismo'},\n",
      " '9': {'inicio': 'TEMA 9: REVOLUCIÓN LIBERAL EN EL REINADO DE ISABEL II. '\n",
      "                 'CARLISMO Y GUERRA \\n'\n",
      "                 'CIVIL.CONSTRUCCIÓN Y EVOLUCIÓN DEL ESTADO LIBERAL  \\n'\n",
      "                 ' \\n'\n",
      "                 'I. INTRODUCCIÓN  \\n'\n",
      "                 ' En 1833 moría Fernando VII y se iniciaba un cambio de '\n",
      "                 'tendencia en España con la introducción del \\n'\n",
      "                 'régimen liberal, pero de forma limitada. El nuevo régi',\n",
      "       'titulo': 'TEMA 9: REVOLUCIÓN LIBERAL EN EL REINADO DE ISABEL II'}}\n"
     ]
    }
   ],
   "source": [
    "import re\n",
    "\n",
    "# Expresión regular para detectar cualquier tema (Tema 1 hasta 18)\n",
    "patron_todos_los_temas = re.compile(r\"(Tema\\s+(\\d{1,2})[^.\\n]*)\", flags=re.IGNORECASE)\n",
    "\n",
    "# Buscar todos los títulos y sus ubicaciones\n",
    "matches_all = list(patron_todos_los_temas.finditer(all_text))\n",
    "\n",
    "# Extraer todos los temas del 1 al 18\n",
    "chunks_all = {}\n",
    "for i, match in enumerate(matches_all):\n",
    "    numero_tema = match.group(2)\n",
    "    titulo_detectado = match.group(1).strip()\n",
    "    inicio = match.start()\n",
    "    fin = matches_all[i + 1].start() if i + 1 < len(matches_all) else len(all_text)\n",
    "    texto_tema = all_text[inicio:fin].strip()\n",
    "    chunks_all[numero_tema] = {\n",
    "        \"titulo\": titulo_detectado,\n",
    "        \"contenido\": texto_tema\n",
    "    }\n",
    "\n",
    "# Mostrar los títulos detectados y un inicio del contenido\n",
    "from pprint import pprint\n",
    "pprint({k: {\"titulo\": v[\"titulo\"], \"inicio\": v[\"contenido\"][:300]} for k, v in chunks_all.items()})"
   ]
  },
  {
   "cell_type": "markdown",
   "metadata": {
    "id": "tiClmbf75_i2"
   },
   "source": [
    "## Almacenamiento de los fragmentos temáticos\n",
    "\n",
    "Una vez realizada la segmentación del documento original en bloques temáticos (chunking), se procedió al almacenamiento individual de cada tema en archivos de texto independientes. Esta etapa permite estructurar el corpus de forma que sea fácilmente indexable por herramientas de recuperación semántica en arquitecturas RAG (Retrieval-Augmented Generation).\n",
    "\n",
    "Se genera un archivo .txt por cada tema. El nombre de cada archivo incluye el número de tema y parte del título, de manera que se pueda identificar fácilmente el contenido sin necesidad de abrir el archivo.\n",
    "\n",
    "Todos los archivos fueron guardados en un directorio específico (temas_historia), y se mantienen listos para ser utilizados como documentos fuente en el proceso de indexación, creación de embeddings y consulta por parte del modelo generativo. Esta estructura por archivo permite una mayor granularidad en la recuperación de información, lo que mejora tanto la precisión como la relevancia de las respuestas generadas por el sistema."
   ]
  },
  {
   "cell_type": "code",
   "execution_count": 4,
   "metadata": {
    "colab": {
     "base_uri": "https://localhost:8080/"
    },
    "executionInfo": {
     "elapsed": 25,
     "status": "ok",
     "timestamp": 1748543844057,
     "user": {
      "displayName": "Tomás Fonta García",
      "userId": "18093753916040275178"
     },
     "user_tz": -120
    },
    "id": "y_cXHRIr5UYG",
    "outputId": "27cf6d99-b837-4d9b-87eb-89b027d0b186"
   },
   "outputs": [
    {
     "data": {
      "text/plain": [
       "['Tema_15_Tema_15_La_Segunda_República_1931_-36.txt',\n",
       " 'Tema_1_TEMA_1_LA_ROMANIZACIÓN.txt',\n",
       " 'Tema_16_Tema_16.txt',\n",
       " 'Tema_14_Tema_14__La_dictadura_de_Primo_de_Rivera.txt',\n",
       " 'Tema_13_Tema_13_Panorama_general_del_reinado_d_e_Alfonso_X.txt',\n",
       " 'Tema_12_Tema__12.txt',\n",
       " 'Tema_10_TEMA_10.txt',\n",
       " 'Tema_11_TEMA_11__El_Sexenio_Revolucionario_1868_-1874.txt',\n",
       " 'Tema_9_TEMA_9_REVOLUCIÓN_LIBERAL_EN_EL_REINADO_DE_ISABEL_.txt',\n",
       " 'Tema_8_Tema_8_Absolutismo_frente_a_liberalismo.txt',\n",
       " 'Tema_18_Tema_18.txt',\n",
       " 'Tema_5_TEMA_5.txt',\n",
       " 'Tema_3_TEMA_3_Castilla_y_Aragón_en_la_Baja_Edad_Media.txt',\n",
       " 'Tema_7_TEMA_7.txt',\n",
       " 'Tema_17_TEMA_17.txt',\n",
       " 'Tema_2_TEMA_2_Al_-Ándalus_evolución_política.txt',\n",
       " 'Tema_4_Tema_4.txt']"
      ]
     },
     "execution_count": 4,
     "metadata": {},
     "output_type": "execute_result"
    }
   ],
   "source": [
    "import os\n",
    "\n",
    "# Crear una carpeta para guardar los archivos de texto\n",
    "output_dir = \"/content/temas_historia\"\n",
    "os.makedirs(output_dir, exist_ok=True)\n",
    "\n",
    "# Guardar cada tema como archivo .txt con su número y título\n",
    "for numero, datos in chunks_all.items():\n",
    "    # Crear un nombre de archivo con número de tema y título resumido\n",
    "    titulo_limpio = re.sub(r'[^\\w\\s-]', '', datos[\"titulo\"]).strip().replace(\" \", \"_\")[:50]\n",
    "    filename = f\"Tema_{numero}_{titulo_limpio}.txt\"\n",
    "    filepath = os.path.join(output_dir, filename)\n",
    "\n",
    "    # Escribir el contenido en el archivo\n",
    "    with open(filepath, \"w\", encoding=\"utf-8\") as f:\n",
    "        f.write(f\"{datos['titulo']}\\n\\n{datos['contenido']}\")\n",
    "\n",
    "# Confirmar los nombres de archivos creados\n",
    "os.listdir(output_dir)"
   ]
  },
  {
   "cell_type": "code",
   "execution_count": 5,
   "metadata": {
    "colab": {
     "base_uri": "https://localhost:8080/"
    },
    "executionInfo": {
     "elapsed": 21,
     "status": "ok",
     "timestamp": 1748543849369,
     "user": {
      "displayName": "Tomás Fonta García",
      "userId": "18093753916040275178"
     },
     "user_tz": -120
    },
    "id": "ntby61jt5wlL",
    "outputId": "3326fb64-21d7-4358-dca4-2712d18dea8c"
   },
   "outputs": [
    {
     "name": "stdout",
     "output_type": "stream",
     "text": [
      "Archivos renombrados:\n",
      "['Tema_13_Reinado_Alfonso_XIII_y_Regeneracionismo.txt', 'Tema_2_Al_Andalus_evolución_política.txt', 'Tema_18_La_Transicion_Democratica.txt', 'Tema_15_La_Segunda_Republica.txt', 'Tema_3_Castilla_y_Aragon_Baja_Edad_Media.txt', 'Tema_1_La_Romanización.txt', 'Tema_4_Los_Reyes_Católicos.txt', 'Tema_5_Austrias_Mayores_politica_exterior.txt', 'Tema_14_Dictadura_Primo_de_Rivera.txt', 'Tema_17_El_Estado_Franquista.txt', 'Tema_9_Reinado_Isabel_II_Carlismo_Guerra_Civil.txt', 'Tema_12_Restauración_y_sistema_canovista.txt', 'Tema_7_Las_Cortes_de_Cadiz_Constitucion_1812.txt', 'Tema_8_Absolutismo_vs_Liberalismo_Fernando_VII.txt', 'Tema_10_Desamortizaciones_y_economia_siglo_XIX.txt', 'Tema_16_La_Guerra_Civil.txt', 'Tema_11_El_Sexenio_Revolucionario.txt']\n"
     ]
    }
   ],
   "source": [
    "# Renombrar manualmente los archivos .txt:\n",
    "import os\n",
    "\n",
    "# Ruta donde están los archivos\n",
    "folder = \"/content/temas_historia\"\n",
    "\n",
    "# Diccionario con los nombres actuales y los nuevos que quieres poner\n",
    "renombrar = {\n",
    "    \"Tema_1_TEMA_1_LA_ROMANIZACIÓN.txt\": \"Tema_1_La_Romanización.txt\",\n",
    "    \"Tema_2_TEMA_2_Al_-Ándalus_evolución_política.txt\": \"Tema_2_Al_Andalus_evolución_política.txt\",\n",
    "    \"Tema_3_TEMA_3_Castilla_y_Aragón_en_la_Baja_Edad_Media.txt\": \"Tema_3_Castilla_y_Aragon_Baja_Edad_Media.txt\",\n",
    "    \"Tema_4_Tema_4.txt\": \"Tema_4_Los_Reyes_Católicos.txt\",\n",
    "    \"Tema_5_TEMA_5.txt\": \"Tema_5_Austrias_Mayores_politica_exterior.txt\",\n",
    "    \"Tema_7_TEMA_7.txt\": \"Tema_7_Las_Cortes_de_Cadiz_Constitucion_1812.txt\",\n",
    "    \"Tema_8_Tema_8_Absolutismo_frente_a_liberalismo.txt\": \"Tema_8_Absolutismo_vs_Liberalismo_Fernando_VII.txt\",\n",
    "    \"Tema_9_TEMA_9_REVOLUCIÓN_LIBERAL_EN_EL_REINADO_DE_ISABEL_.txt\": \"Tema_9_Reinado_Isabel_II_Carlismo_Guerra_Civil.txt\",\n",
    "    \"Tema_10_TEMA_10.txt\": \"Tema_10_Desamortizaciones_y_economia_siglo_XIX.txt\",\n",
    "    \"Tema_11_TEMA_11__El_Sexenio_Revolucionario_1868_-1874.txt\": \"Tema_11_El_Sexenio_Revolucionario.txt\",\n",
    "    \"Tema_12_Tema__12.txt\": \"Tema_12_Restauración_y_sistema_canovista.txt\",\n",
    "    \"Tema_13_Tema_13_Panorama_general_del_reinado_d_e_Alfonso_X.txt\": \"Tema_13_Reinado_Alfonso_XIII_y_Regeneracionismo.txt\",\n",
    "    \"Tema_14_Tema_14__La_dictadura_de_Primo_de_Rivera.txt\": \"Tema_14_Dictadura_Primo_de_Rivera.txt\",\n",
    "    \"Tema_15_Tema_15_La_Segunda_República_1931_-36.txt\": \"Tema_15_La_Segunda_Republica.txt\",\n",
    "    \"Tema_16_Tema_16.txt\": \"Tema_16_La_Guerra_Civil.txt\",\n",
    "    \"Tema_17_TEMA_17.txt\": \"Tema_17_El_Estado_Franquista.txt\",\n",
    "    \"Tema_18_Tema_18.txt\": \"Tema_18_La_Transicion_Democratica.txt\",\n",
    "}\n",
    "\n",
    "# Aplicar renombrado\n",
    "for antiguo, nuevo in renombrar.items():\n",
    "    origen = os.path.join(folder, antiguo)\n",
    "    destino = os.path.join(folder, nuevo)\n",
    "    if os.path.exists(origen):\n",
    "        os.rename(origen, destino)\n",
    "\n",
    "# Mostrar los nuevos nombres\n",
    "print(\"Archivos renombrados:\")\n",
    "print(os.listdir(folder))"
   ]
  },
  {
   "cell_type": "code",
   "execution_count": 6,
   "metadata": {
    "colab": {
     "base_uri": "https://localhost:8080/"
    },
    "executionInfo": {
     "elapsed": 9695,
     "status": "ok",
     "timestamp": 1748543888829,
     "user": {
      "displayName": "Tomás Fonta García",
      "userId": "18093753916040275178"
     },
     "user_tz": -120
    },
    "id": "ts8Ufd3W75Tw",
    "outputId": "fa2f0ea4-ba88-4daf-bbec-3ef138f39262"
   },
   "outputs": [
    {
     "name": "stdout",
     "output_type": "stream",
     "text": [
      "Collecting llama-index\n",
      "  Downloading llama_index-0.12.38-py3-none-any.whl.metadata (12 kB)\n",
      "Collecting llama-index-embeddings-openai\n",
      "  Downloading llama_index_embeddings_openai-0.3.1-py3-none-any.whl.metadata (684 bytes)\n",
      "Collecting llama-index-agent-openai<0.5,>=0.4.0 (from llama-index)\n",
      "  Downloading llama_index_agent_openai-0.4.8-py3-none-any.whl.metadata (438 bytes)\n",
      "Collecting llama-index-cli<0.5,>=0.4.1 (from llama-index)\n",
      "  Downloading llama_index_cli-0.4.1-py3-none-any.whl.metadata (1.5 kB)\n",
      "Collecting llama-index-core<0.13,>=0.12.38 (from llama-index)\n",
      "  Downloading llama_index_core-0.12.38-py3-none-any.whl.metadata (2.4 kB)\n",
      "Collecting llama-index-indices-managed-llama-cloud>=0.4.0 (from llama-index)\n",
      "  Downloading llama_index_indices_managed_llama_cloud-0.7.1-py3-none-any.whl.metadata (3.3 kB)\n",
      "Collecting llama-index-llms-openai<0.4,>=0.3.0 (from llama-index)\n",
      "  Downloading llama_index_llms_openai-0.3.44-py3-none-any.whl.metadata (3.0 kB)\n",
      "Collecting llama-index-multi-modal-llms-openai<0.5,>=0.4.0 (from llama-index)\n",
      "  Downloading llama_index_multi_modal_llms_openai-0.4.3-py3-none-any.whl.metadata (726 bytes)\n",
      "Collecting llama-index-program-openai<0.4,>=0.3.0 (from llama-index)\n",
      "  Downloading llama_index_program_openai-0.3.1-py3-none-any.whl.metadata (764 bytes)\n",
      "Collecting llama-index-question-gen-openai<0.4,>=0.3.0 (from llama-index)\n",
      "  Downloading llama_index_question_gen_openai-0.3.0-py3-none-any.whl.metadata (783 bytes)\n",
      "Collecting llama-index-readers-file<0.5,>=0.4.0 (from llama-index)\n",
      "  Downloading llama_index_readers_file-0.4.8-py3-none-any.whl.metadata (5.2 kB)\n",
      "Collecting llama-index-readers-llama-parse>=0.4.0 (from llama-index)\n",
      "  Downloading llama_index_readers_llama_parse-0.4.0-py3-none-any.whl.metadata (3.6 kB)\n",
      "Requirement already satisfied: nltk>3.8.1 in /usr/local/lib/python3.11/dist-packages (from llama-index) (3.9.1)\n",
      "Requirement already satisfied: openai>=1.1.0 in /usr/local/lib/python3.11/dist-packages (from llama-index-embeddings-openai) (1.81.0)\n",
      "Requirement already satisfied: aiohttp<4,>=3.8.6 in /usr/local/lib/python3.11/dist-packages (from llama-index-core<0.13,>=0.12.38->llama-index) (3.11.15)\n",
      "Collecting aiosqlite (from llama-index-core<0.13,>=0.12.38->llama-index)\n",
      "  Downloading aiosqlite-0.21.0-py3-none-any.whl.metadata (4.3 kB)\n",
      "Collecting banks<3,>=2.0.0 (from llama-index-core<0.13,>=0.12.38->llama-index)\n",
      "  Downloading banks-2.1.2-py3-none-any.whl.metadata (12 kB)\n",
      "Collecting dataclasses-json (from llama-index-core<0.13,>=0.12.38->llama-index)\n",
      "  Downloading dataclasses_json-0.6.7-py3-none-any.whl.metadata (25 kB)\n",
      "Collecting deprecated>=1.2.9.3 (from llama-index-core<0.13,>=0.12.38->llama-index)\n",
      "  Downloading Deprecated-1.2.18-py2.py3-none-any.whl.metadata (5.7 kB)\n",
      "Collecting dirtyjson<2,>=1.0.8 (from llama-index-core<0.13,>=0.12.38->llama-index)\n",
      "  Downloading dirtyjson-1.0.8-py3-none-any.whl.metadata (11 kB)\n",
      "Collecting filetype<2,>=1.2.0 (from llama-index-core<0.13,>=0.12.38->llama-index)\n",
      "  Downloading filetype-1.2.0-py2.py3-none-any.whl.metadata (6.5 kB)\n",
      "Requirement already satisfied: fsspec>=2023.5.0 in /usr/local/lib/python3.11/dist-packages (from llama-index-core<0.13,>=0.12.38->llama-index) (2025.3.2)\n",
      "Requirement already satisfied: httpx in /usr/local/lib/python3.11/dist-packages (from llama-index-core<0.13,>=0.12.38->llama-index) (0.28.1)\n",
      "Requirement already satisfied: nest-asyncio<2,>=1.5.8 in /usr/local/lib/python3.11/dist-packages (from llama-index-core<0.13,>=0.12.38->llama-index) (1.6.0)\n",
      "Requirement already satisfied: networkx>=3.0 in /usr/local/lib/python3.11/dist-packages (from llama-index-core<0.13,>=0.12.38->llama-index) (3.4.2)\n",
      "Requirement already satisfied: numpy in /usr/local/lib/python3.11/dist-packages (from llama-index-core<0.13,>=0.12.38->llama-index) (2.0.2)\n",
      "Requirement already satisfied: pillow>=9.0.0 in /usr/local/lib/python3.11/dist-packages (from llama-index-core<0.13,>=0.12.38->llama-index) (11.2.1)\n",
      "Requirement already satisfied: pydantic>=2.8.0 in /usr/local/lib/python3.11/dist-packages (from llama-index-core<0.13,>=0.12.38->llama-index) (2.11.4)\n",
      "Requirement already satisfied: pyyaml>=6.0.1 in /usr/local/lib/python3.11/dist-packages (from llama-index-core<0.13,>=0.12.38->llama-index) (6.0.2)\n",
      "Requirement already satisfied: requests>=2.31.0 in /usr/local/lib/python3.11/dist-packages (from llama-index-core<0.13,>=0.12.38->llama-index) (2.32.3)\n",
      "Requirement already satisfied: sqlalchemy>=1.4.49 in /usr/local/lib/python3.11/dist-packages (from sqlalchemy[asyncio]>=1.4.49->llama-index-core<0.13,>=0.12.38->llama-index) (2.0.41)\n",
      "Requirement already satisfied: tenacity!=8.4.0,<10.0.0,>=8.2.0 in /usr/local/lib/python3.11/dist-packages (from llama-index-core<0.13,>=0.12.38->llama-index) (9.1.2)\n",
      "Requirement already satisfied: tiktoken>=0.7.0 in /usr/local/lib/python3.11/dist-packages (from llama-index-core<0.13,>=0.12.38->llama-index) (0.9.0)\n",
      "Requirement already satisfied: tqdm<5,>=4.66.1 in /usr/local/lib/python3.11/dist-packages (from llama-index-core<0.13,>=0.12.38->llama-index) (4.67.1)\n",
      "Requirement already satisfied: typing-extensions>=4.5.0 in /usr/local/lib/python3.11/dist-packages (from llama-index-core<0.13,>=0.12.38->llama-index) (4.13.2)\n",
      "Collecting typing-inspect>=0.8.0 (from llama-index-core<0.13,>=0.12.38->llama-index)\n",
      "  Downloading typing_inspect-0.9.0-py3-none-any.whl.metadata (1.5 kB)\n",
      "Requirement already satisfied: wrapt in /usr/local/lib/python3.11/dist-packages (from llama-index-core<0.13,>=0.12.38->llama-index) (1.17.2)\n",
      "Collecting llama-cloud==0.1.23 (from llama-index-indices-managed-llama-cloud>=0.4.0->llama-index)\n",
      "  Downloading llama_cloud-0.1.23-py3-none-any.whl.metadata (1.1 kB)\n",
      "Requirement already satisfied: certifi>=2024.7.4 in /usr/local/lib/python3.11/dist-packages (from llama-cloud==0.1.23->llama-index-indices-managed-llama-cloud>=0.4.0->llama-index) (2025.4.26)\n",
      "Requirement already satisfied: beautifulsoup4<5,>=4.12.3 in /usr/local/lib/python3.11/dist-packages (from llama-index-readers-file<0.5,>=0.4.0->llama-index) (4.13.4)\n",
      "Requirement already satisfied: pandas in /usr/local/lib/python3.11/dist-packages (from llama-index-readers-file<0.5,>=0.4.0->llama-index) (2.2.2)\n",
      "Collecting pypdf<6,>=5.1.0 (from llama-index-readers-file<0.5,>=0.4.0->llama-index)\n",
      "  Downloading pypdf-5.5.0-py3-none-any.whl.metadata (7.2 kB)\n",
      "Collecting striprtf<0.0.27,>=0.0.26 (from llama-index-readers-file<0.5,>=0.4.0->llama-index)\n",
      "  Downloading striprtf-0.0.26-py3-none-any.whl.metadata (2.1 kB)\n",
      "Collecting llama-parse>=0.5.0 (from llama-index-readers-llama-parse>=0.4.0->llama-index)\n",
      "  Downloading llama_parse-0.6.24-py3-none-any.whl.metadata (6.9 kB)\n",
      "Requirement already satisfied: click in /usr/local/lib/python3.11/dist-packages (from nltk>3.8.1->llama-index) (8.2.1)\n",
      "Requirement already satisfied: joblib in /usr/local/lib/python3.11/dist-packages (from nltk>3.8.1->llama-index) (1.5.0)\n",
      "Requirement already satisfied: regex>=2021.8.3 in /usr/local/lib/python3.11/dist-packages (from nltk>3.8.1->llama-index) (2024.11.6)\n",
      "Requirement already satisfied: anyio<5,>=3.5.0 in /usr/local/lib/python3.11/dist-packages (from openai>=1.1.0->llama-index-embeddings-openai) (4.9.0)\n",
      "Requirement already satisfied: distro<2,>=1.7.0 in /usr/local/lib/python3.11/dist-packages (from openai>=1.1.0->llama-index-embeddings-openai) (1.9.0)\n",
      "Requirement already satisfied: jiter<1,>=0.4.0 in /usr/local/lib/python3.11/dist-packages (from openai>=1.1.0->llama-index-embeddings-openai) (0.10.0)\n",
      "Requirement already satisfied: sniffio in /usr/local/lib/python3.11/dist-packages (from openai>=1.1.0->llama-index-embeddings-openai) (1.3.1)\n",
      "Requirement already satisfied: aiohappyeyeballs>=2.3.0 in /usr/local/lib/python3.11/dist-packages (from aiohttp<4,>=3.8.6->llama-index-core<0.13,>=0.12.38->llama-index) (2.6.1)\n",
      "Requirement already satisfied: aiosignal>=1.1.2 in /usr/local/lib/python3.11/dist-packages (from aiohttp<4,>=3.8.6->llama-index-core<0.13,>=0.12.38->llama-index) (1.3.2)\n",
      "Requirement already satisfied: attrs>=17.3.0 in /usr/local/lib/python3.11/dist-packages (from aiohttp<4,>=3.8.6->llama-index-core<0.13,>=0.12.38->llama-index) (25.3.0)\n",
      "Requirement already satisfied: frozenlist>=1.1.1 in /usr/local/lib/python3.11/dist-packages (from aiohttp<4,>=3.8.6->llama-index-core<0.13,>=0.12.38->llama-index) (1.6.0)\n",
      "Requirement already satisfied: multidict<7.0,>=4.5 in /usr/local/lib/python3.11/dist-packages (from aiohttp<4,>=3.8.6->llama-index-core<0.13,>=0.12.38->llama-index) (6.4.4)\n",
      "Requirement already satisfied: propcache>=0.2.0 in /usr/local/lib/python3.11/dist-packages (from aiohttp<4,>=3.8.6->llama-index-core<0.13,>=0.12.38->llama-index) (0.3.1)\n",
      "Requirement already satisfied: yarl<2.0,>=1.17.0 in /usr/local/lib/python3.11/dist-packages (from aiohttp<4,>=3.8.6->llama-index-core<0.13,>=0.12.38->llama-index) (1.20.0)\n",
      "Requirement already satisfied: idna>=2.8 in /usr/local/lib/python3.11/dist-packages (from anyio<5,>=3.5.0->openai>=1.1.0->llama-index-embeddings-openai) (3.10)\n",
      "Collecting griffe (from banks<3,>=2.0.0->llama-index-core<0.13,>=0.12.38->llama-index)\n",
      "  Downloading griffe-1.7.3-py3-none-any.whl.metadata (5.0 kB)\n",
      "Requirement already satisfied: jinja2 in /usr/local/lib/python3.11/dist-packages (from banks<3,>=2.0.0->llama-index-core<0.13,>=0.12.38->llama-index) (3.1.6)\n",
      "Requirement already satisfied: platformdirs in /usr/local/lib/python3.11/dist-packages (from banks<3,>=2.0.0->llama-index-core<0.13,>=0.12.38->llama-index) (4.3.8)\n",
      "Requirement already satisfied: soupsieve>1.2 in /usr/local/lib/python3.11/dist-packages (from beautifulsoup4<5,>=4.12.3->llama-index-readers-file<0.5,>=0.4.0->llama-index) (2.7)\n",
      "Requirement already satisfied: httpcore==1.* in /usr/local/lib/python3.11/dist-packages (from httpx->llama-index-core<0.13,>=0.12.38->llama-index) (1.0.9)\n",
      "Requirement already satisfied: h11>=0.16 in /usr/local/lib/python3.11/dist-packages (from httpcore==1.*->httpx->llama-index-core<0.13,>=0.12.38->llama-index) (0.16.0)\n",
      "Collecting llama-cloud-services>=0.6.24 (from llama-parse>=0.5.0->llama-index-readers-llama-parse>=0.4.0->llama-index)\n",
      "  Downloading llama_cloud_services-0.6.24-py3-none-any.whl.metadata (3.4 kB)\n",
      "Requirement already satisfied: annotated-types>=0.6.0 in /usr/local/lib/python3.11/dist-packages (from pydantic>=2.8.0->llama-index-core<0.13,>=0.12.38->llama-index) (0.7.0)\n",
      "Requirement already satisfied: pydantic-core==2.33.2 in /usr/local/lib/python3.11/dist-packages (from pydantic>=2.8.0->llama-index-core<0.13,>=0.12.38->llama-index) (2.33.2)\n",
      "Requirement already satisfied: typing-inspection>=0.4.0 in /usr/local/lib/python3.11/dist-packages (from pydantic>=2.8.0->llama-index-core<0.13,>=0.12.38->llama-index) (0.4.1)\n",
      "Requirement already satisfied: charset-normalizer<4,>=2 in /usr/local/lib/python3.11/dist-packages (from requests>=2.31.0->llama-index-core<0.13,>=0.12.38->llama-index) (3.4.2)\n",
      "Requirement already satisfied: urllib3<3,>=1.21.1 in /usr/local/lib/python3.11/dist-packages (from requests>=2.31.0->llama-index-core<0.13,>=0.12.38->llama-index) (2.4.0)\n",
      "Requirement already satisfied: greenlet>=1 in /usr/local/lib/python3.11/dist-packages (from sqlalchemy>=1.4.49->sqlalchemy[asyncio]>=1.4.49->llama-index-core<0.13,>=0.12.38->llama-index) (3.2.2)\n",
      "Collecting mypy-extensions>=0.3.0 (from typing-inspect>=0.8.0->llama-index-core<0.13,>=0.12.38->llama-index)\n",
      "  Downloading mypy_extensions-1.1.0-py3-none-any.whl.metadata (1.1 kB)\n",
      "Collecting marshmallow<4.0.0,>=3.18.0 (from dataclasses-json->llama-index-core<0.13,>=0.12.38->llama-index)\n",
      "  Downloading marshmallow-3.26.1-py3-none-any.whl.metadata (7.3 kB)\n",
      "Requirement already satisfied: python-dateutil>=2.8.2 in /usr/local/lib/python3.11/dist-packages (from pandas->llama-index-readers-file<0.5,>=0.4.0->llama-index) (2.9.0.post0)\n",
      "Requirement already satisfied: pytz>=2020.1 in /usr/local/lib/python3.11/dist-packages (from pandas->llama-index-readers-file<0.5,>=0.4.0->llama-index) (2025.2)\n",
      "Requirement already satisfied: tzdata>=2022.7 in /usr/local/lib/python3.11/dist-packages (from pandas->llama-index-readers-file<0.5,>=0.4.0->llama-index) (2025.2)\n",
      "Collecting python-dotenv<2.0.0,>=1.0.1 (from llama-cloud-services>=0.6.24->llama-parse>=0.5.0->llama-index-readers-llama-parse>=0.4.0->llama-index)\n",
      "  Downloading python_dotenv-1.1.0-py3-none-any.whl.metadata (24 kB)\n",
      "Requirement already satisfied: packaging>=17.0 in /usr/local/lib/python3.11/dist-packages (from marshmallow<4.0.0,>=3.18.0->dataclasses-json->llama-index-core<0.13,>=0.12.38->llama-index) (24.2)\n",
      "Requirement already satisfied: six>=1.5 in /usr/local/lib/python3.11/dist-packages (from python-dateutil>=2.8.2->pandas->llama-index-readers-file<0.5,>=0.4.0->llama-index) (1.17.0)\n",
      "Collecting colorama>=0.4 (from griffe->banks<3,>=2.0.0->llama-index-core<0.13,>=0.12.38->llama-index)\n",
      "  Downloading colorama-0.4.6-py2.py3-none-any.whl.metadata (17 kB)\n",
      "Requirement already satisfied: MarkupSafe>=2.0 in /usr/local/lib/python3.11/dist-packages (from jinja2->banks<3,>=2.0.0->llama-index-core<0.13,>=0.12.38->llama-index) (3.0.2)\n",
      "Downloading llama_index-0.12.38-py3-none-any.whl (7.1 kB)\n",
      "Downloading llama_index_embeddings_openai-0.3.1-py3-none-any.whl (6.2 kB)\n",
      "Downloading llama_index_agent_openai-0.4.8-py3-none-any.whl (14 kB)\n",
      "Downloading llama_index_cli-0.4.1-py3-none-any.whl (28 kB)\n",
      "Downloading llama_index_core-0.12.38-py3-none-any.whl (7.7 MB)\n",
      "\u001b[2K   \u001b[90m━━━━━━━━━━━━━━━━━━━━━━━━━━━━━━━━━━━━━━━━\u001b[0m \u001b[32m7.7/7.7 MB\u001b[0m \u001b[31m67.7 MB/s\u001b[0m eta \u001b[36m0:00:00\u001b[0m\n",
      "\u001b[?25hDownloading llama_index_indices_managed_llama_cloud-0.7.1-py3-none-any.whl (15 kB)\n",
      "Downloading llama_cloud-0.1.23-py3-none-any.whl (267 kB)\n",
      "\u001b[2K   \u001b[90m━━━━━━━━━━━━━━━━━━━━━━━━━━━━━━━━━━━━━━━━\u001b[0m \u001b[32m267.3/267.3 kB\u001b[0m \u001b[31m23.0 MB/s\u001b[0m eta \u001b[36m0:00:00\u001b[0m\n",
      "\u001b[?25hDownloading llama_index_llms_openai-0.3.44-py3-none-any.whl (24 kB)\n",
      "Downloading llama_index_multi_modal_llms_openai-0.4.3-py3-none-any.whl (5.9 kB)\n",
      "Downloading llama_index_program_openai-0.3.1-py3-none-any.whl (5.3 kB)\n",
      "Downloading llama_index_question_gen_openai-0.3.0-py3-none-any.whl (2.9 kB)\n",
      "Downloading llama_index_readers_file-0.4.8-py3-none-any.whl (40 kB)\n",
      "\u001b[2K   \u001b[90m━━━━━━━━━━━━━━━━━━━━━━━━━━━━━━━━━━━━━━━━\u001b[0m \u001b[32m41.0/41.0 kB\u001b[0m \u001b[31m3.1 MB/s\u001b[0m eta \u001b[36m0:00:00\u001b[0m\n",
      "\u001b[?25hDownloading llama_index_readers_llama_parse-0.4.0-py3-none-any.whl (2.5 kB)\n",
      "Downloading banks-2.1.2-py3-none-any.whl (28 kB)\n",
      "Downloading Deprecated-1.2.18-py2.py3-none-any.whl (10.0 kB)\n",
      "Downloading dirtyjson-1.0.8-py3-none-any.whl (25 kB)\n",
      "Downloading filetype-1.2.0-py2.py3-none-any.whl (19 kB)\n",
      "Downloading llama_parse-0.6.24-py3-none-any.whl (4.9 kB)\n",
      "Downloading pypdf-5.5.0-py3-none-any.whl (303 kB)\n",
      "\u001b[2K   \u001b[90m━━━━━━━━━━━━━━━━━━━━━━━━━━━━━━━━━━━━━━━━\u001b[0m \u001b[32m303.4/303.4 kB\u001b[0m \u001b[31m24.5 MB/s\u001b[0m eta \u001b[36m0:00:00\u001b[0m\n",
      "\u001b[?25hDownloading striprtf-0.0.26-py3-none-any.whl (6.9 kB)\n",
      "Downloading typing_inspect-0.9.0-py3-none-any.whl (8.8 kB)\n",
      "Downloading aiosqlite-0.21.0-py3-none-any.whl (15 kB)\n",
      "Downloading dataclasses_json-0.6.7-py3-none-any.whl (28 kB)\n",
      "Downloading llama_cloud_services-0.6.24-py3-none-any.whl (37 kB)\n",
      "Downloading marshmallow-3.26.1-py3-none-any.whl (50 kB)\n",
      "\u001b[2K   \u001b[90m━━━━━━━━━━━━━━━━━━━━━━━━━━━━━━━━━━━━━━━━\u001b[0m \u001b[32m50.9/50.9 kB\u001b[0m \u001b[31m4.0 MB/s\u001b[0m eta \u001b[36m0:00:00\u001b[0m\n",
      "\u001b[?25hDownloading mypy_extensions-1.1.0-py3-none-any.whl (5.0 kB)\n",
      "Downloading griffe-1.7.3-py3-none-any.whl (129 kB)\n",
      "\u001b[2K   \u001b[90m━━━━━━━━━━━━━━━━━━━━━━━━━━━━━━━━━━━━━━━━\u001b[0m \u001b[32m129.3/129.3 kB\u001b[0m \u001b[31m10.9 MB/s\u001b[0m eta \u001b[36m0:00:00\u001b[0m\n",
      "\u001b[?25hDownloading colorama-0.4.6-py2.py3-none-any.whl (25 kB)\n",
      "Downloading python_dotenv-1.1.0-py3-none-any.whl (20 kB)\n",
      "Installing collected packages: striprtf, filetype, dirtyjson, python-dotenv, pypdf, mypy-extensions, marshmallow, deprecated, colorama, aiosqlite, typing-inspect, griffe, llama-cloud, dataclasses-json, banks, llama-index-core, llama-index-readers-file, llama-index-llms-openai, llama-index-indices-managed-llama-cloud, llama-index-embeddings-openai, llama-cloud-services, llama-parse, llama-index-multi-modal-llms-openai, llama-index-cli, llama-index-agent-openai, llama-index-readers-llama-parse, llama-index-program-openai, llama-index-question-gen-openai, llama-index\n",
      "Successfully installed aiosqlite-0.21.0 banks-2.1.2 colorama-0.4.6 dataclasses-json-0.6.7 deprecated-1.2.18 dirtyjson-1.0.8 filetype-1.2.0 griffe-1.7.3 llama-cloud-0.1.23 llama-cloud-services-0.6.24 llama-index-0.12.38 llama-index-agent-openai-0.4.8 llama-index-cli-0.4.1 llama-index-core-0.12.38 llama-index-embeddings-openai-0.3.1 llama-index-indices-managed-llama-cloud-0.7.1 llama-index-llms-openai-0.3.44 llama-index-multi-modal-llms-openai-0.4.3 llama-index-program-openai-0.3.1 llama-index-question-gen-openai-0.3.0 llama-index-readers-file-0.4.8 llama-index-readers-llama-parse-0.4.0 llama-parse-0.6.24 marshmallow-3.26.1 mypy-extensions-1.1.0 pypdf-5.5.0 python-dotenv-1.1.0 striprtf-0.0.26 typing-inspect-0.9.0\n"
     ]
    }
   ],
   "source": [
    "!pip install llama-index llama-index-embeddings-openai"
   ]
  },
  {
   "cell_type": "markdown",
   "metadata": {
    "id": "_boyv_Yy8dSd"
   },
   "source": [
    "## Generación de embeddings y construcción del índice vectorial\n",
    "\n",
    "Una vez estructurado y almacenado el corpus temático en archivos individuales, se procedió a la creación del índice semántico mediante técnicas de vectorización de texto. Este paso es fundamental en la arquitectura RAG (Retrieval-Augmented Generation), ya que permite recuperar información relevante en base al significado de una consulta, no solo por coincidencia literal de palabras clave.\n",
    "\n",
    "Para ello se utilizó la librería LlamaIndex, que proporciona una interfaz sencilla para construir índices vectoriales a partir de documentos. Los pasos seguidos fueron los siguientes:\n",
    "\n",
    "1. Carga del corpus: Se empleó la clase SimpleDirectoryReader para cargar automáticamente todos los archivos .txt desde el directorio que contiene los temas previamente segmentados.\n",
    "2. Generación de embeddings: Cada documento fue transformado en un vector numérico usando el modelo text-embedding-3-small de OpenAI. Este modelo permite representar el contenido de manera que documentos con significados similares estén cercanos en el espacio vectorial.\n",
    "3. Construcción del índice: Los vectores generados fueron almacenados en un índice semántico utilizando la clase VectorStoreIndex. Este índice permite realizar búsquedas eficientes por similitud de significado entre una consulta y los documentos.\n",
    "4. Persistencia del índice: Finalmente, el índice fue guardado en disco mediante la función persist(), lo que permite reutilizarlo sin necesidad de recalcular los embeddings en futuras ejecuciones.\n",
    "\n",
    "Gracias a esta estructura, el sistema es capaz de recuperar rápidamente los temas más relevantes para cualquier pregunta formulada por el usuario, lo que constituye la base para la interacción posterior con el modelo generativo."
   ]
  },
  {
   "cell_type": "code",
   "execution_count": null,
   "metadata": {
    "executionInfo": {
     "elapsed": 11,
     "status": "ok",
     "timestamp": 1748543918046,
     "user": {
      "displayName": "Tomás Fonta García",
      "userId": "18093753916040275178"
     },
     "user_tz": -120
    },
    "id": "xmiZIHE486tm"
   },
   "outputs": [],
   "source": [
    "import os\n",
    "os.environ[\"OPENAI_API_KEY\"] = \"tu_clave_de_api_aqui\""
   ]
  },
  {
   "cell_type": "code",
   "execution_count": 8,
   "metadata": {
    "colab": {
     "base_uri": "https://localhost:8080/"
    },
    "executionInfo": {
     "elapsed": 15863,
     "status": "ok",
     "timestamp": 1748543945860,
     "user": {
      "displayName": "Tomás Fonta García",
      "userId": "18093753916040275178"
     },
     "user_tz": -120
    },
    "id": "OGaqMtv6723b",
    "outputId": "45e552c0-c505-4616-c670-72491a063ab8"
   },
   "outputs": [
    {
     "data": {
      "text/plain": [
       "17"
      ]
     },
     "execution_count": 8,
     "metadata": {},
     "output_type": "execute_result"
    }
   ],
   "source": [
    "from llama_index.core import SimpleDirectoryReader, VectorStoreIndex\n",
    "from llama_index.embeddings.openai import OpenAIEmbedding\n",
    "from llama_index.llms.openai import OpenAI\n",
    "import os\n",
    "\n",
    "# Ruta donde están los archivos con los temas limpios\n",
    "carpeta = \"/content/temas_historia\"\n",
    "\n",
    "# Leemos todos los archivos como documentos\n",
    "documents = SimpleDirectoryReader(carpeta).load_data()\n",
    "\n",
    "# Creamos embeddings con OpenAI (requiere API key)\n",
    "embed_model = OpenAIEmbedding(model=\"text-embedding-3-small\")\n",
    "\n",
    "# Creamos el índice vectorial con esos documentos\n",
    "index = VectorStoreIndex.from_documents(documents, embed_model=embed_model)\n",
    "\n",
    "# Guardamos el índice para poder reutilizarlo luego\n",
    "index.storage_context.persist(persist_dir=\"/content/historia_index\")\n",
    "\n",
    "# Verificamos cuántos documentos han sido indexados\n",
    "len(documents)"
   ]
  },
  {
   "cell_type": "markdown",
   "metadata": {
    "id": "JDwuNZtd-NxS"
   },
   "source": [
    "## Consulta al sistema con preguntas históricas\n",
    "\n",
    "Aunque no se haya especificado directamente en el código, el modelo generativo utilizado por defecto en este sistema RAG es gpt-3.5-turbo, proporcionado por OpenAI a través de la API configurada en el entorno (OPENAI_API_KEY). LlamaIndex por defecto utiliza gpt-3.5-turbo de OpenAI — siempre que detecte que tienes definida una variable de entorno válida: OPENAI_API_KEY."
   ]
  },
  {
   "cell_type": "code",
   "execution_count": 9,
   "metadata": {
    "executionInfo": {
     "elapsed": 15,
     "status": "ok",
     "timestamp": 1748544107799,
     "user": {
      "displayName": "Tomás Fonta García",
      "userId": "18093753916040275178"
     },
     "user_tz": -120
    },
    "id": "onFJMPdBWZzQ"
   },
   "outputs": [],
   "source": [
    "# Prompt base (instrucciones para el modelo)\n",
    "prompt_base = \"\"\"\n",
    "Eres un profesor de Historia de España experto y riguroso.\n",
    "Responde únicamente utilizando la información proporcionada en los documentos del índice,\n",
    "sin recurrir a conocimiento externo o general. Si no encuentras suficiente información,\n",
    "indícalo con honestidad en tu respuesta.\n",
    "\n",
    "Redacta la respuesta en español claro y formal, con un estilo académico pero comprensible\n",
    "para estudiantes de nivel universitario o de bachillerato.\n",
    "\n",
    "Si es posible, organiza la información en párrafos, incluyendo fechas, protagonistas, causas\n",
    "y consecuencias relevantes. No inventes nada ni respondas con opiniones personales.\n",
    "\"\"\""
   ]
  },
  {
   "cell_type": "code",
   "execution_count": 11,
   "metadata": {
    "colab": {
     "base_uri": "https://localhost:8080/"
    },
    "executionInfo": {
     "elapsed": 11202,
     "status": "ok",
     "timestamp": 1748544266955,
     "user": {
      "displayName": "Tomás Fonta García",
      "userId": "18093753916040275178"
     },
     "user_tz": -120
    },
    "id": "nK-zJTsM-Ak-",
    "outputId": "5857346a-1e26-4f40-f8d6-85851c3f8fbf"
   },
   "outputs": [
    {
     "name": "stdout",
     "output_type": "stream",
     "text": [
      "El Sexenio Revolucionario en España, que abarcó desde 1868 hasta 1874, tuvo como consecuencias relevantes la destronación de la reina Isabel II en 1868, el establecimiento de un gobierno provisional y un régimen democrático. Además, se promulgó la Constitución de 1869, que instauró una monarquía constitucional y una división de poderes.\n",
      "\n",
      "Otra consecuencia importante fue la Guerra de los Diez Años en Cuba, que se inició en 1868 y se prolongó hasta 1878, generando impactos significativos en la economía y la estabilidad política de España, así como tensiones internas y externas.\n",
      "\n",
      "La alternancia en el poder entre diferentes grupos políticos durante el Sexenio Revolucionario provocó inestabilidad y conflictos internos, sentando las bases para la posterior Restauración borbónica con la llegada de Alfonso XII al trono en 1874, poniendo fin a este periodo de transformaciones y convulsiones.\n"
     ]
    }
   ],
   "source": [
    "from llama_index.core.query_engine import RetrieverQueryEngine\n",
    "\n",
    "# Crear un query engine a partir del índice ya cargado\n",
    "query_engine = index.as_query_engine(similarity_top_k=3,  # reduce si quieres más precisión (1 o 2)\n",
    "    response_mode=\"refine\"# obliga al modelo a ceñirse a los documentos recuperados)\n",
    ")\n",
    "\n",
    "# Pregunta específica del usuario\n",
    "pregunta_usuario = \"¿Qué consecuencias tuvo el Sexenio Revolucionario?\"\n",
    "\n",
    "# Combinar prompt + pregunta\n",
    "prompt_final = f\"{prompt_base}\\n\\nPregunta del estudiante: {pregunta_usuario}\"\n",
    "\n",
    "# Hacer la consulta\n",
    "respuesta = query_engine.query(prompt_final)\n",
    "\n",
    "# Mostrar resultado\n",
    "print(respuesta.response)"
   ]
  },
  {
   "cell_type": "code",
   "execution_count": 12,
   "metadata": {
    "colab": {
     "base_uri": "https://localhost:8080/"
    },
    "executionInfo": {
     "elapsed": 7078,
     "status": "ok",
     "timestamp": 1748544341613,
     "user": {
      "displayName": "Tomás Fonta García",
      "userId": "18093753916040275178"
     },
     "user_tz": -120
    },
    "id": "9aaBk7KtBZnp",
    "outputId": "75d61b57-f673-47ad-f95a-ce558eaeccd7"
   },
   "outputs": [
    {
     "name": "stdout",
     "output_type": "stream",
     "text": [
      "El régimen de Francisco Franco se estableció tras la guerra civil española en 1939 y se mantuvo hasta 1975. Durante este periodo, Franco concentró todo el poder en sus manos, estableciendo una dictadura personal similar a regímenes fascistas. Su régimen se caracterizó por un profundo antiliberalismo, represión interna contra los republicanos, y una política económica de autarquía. A nivel internacional, el franquismo se vio aislado y fue expulsado de organismos internacionales. Franco se apoyó en elementos de la Falange Española y los tradicionalistas, promoviendo una visión nacional-católica.\n"
     ]
    }
   ],
   "source": [
    "# Pregunta específica del usuario\n",
    "pregunta_usuario = \"Dime un resumen de la dictadura de Francisco Franco\"\n",
    "\n",
    "# Combinar prompt + pregunta\n",
    "prompt_final = f\"{prompt_base}\\n\\nPregunta del estudiante: {pregunta_usuario}\"\n",
    "\n",
    "# Hacer la consulta\n",
    "respuesta = query_engine.query(prompt_final)\n",
    "\n",
    "# Mostrar resultado\n",
    "print(respuesta.response)"
   ]
  },
  {
   "cell_type": "code",
   "execution_count": 13,
   "metadata": {
    "colab": {
     "base_uri": "https://localhost:8080/"
    },
    "executionInfo": {
     "elapsed": 4216,
     "status": "ok",
     "timestamp": 1748544399749,
     "user": {
      "displayName": "Tomás Fonta García",
      "userId": "18093753916040275178"
     },
     "user_tz": -120
    },
    "id": "yIsFJmSqXdik",
    "outputId": "f03cf243-f871-4c4c-946a-1dd9d13b1516"
   },
   "outputs": [
    {
     "name": "stdout",
     "output_type": "stream",
     "text": [
      "No se proporciona información relevante en el contexto para responder a la pregunta sobre Leo Messi.\n"
     ]
    }
   ],
   "source": [
    "# Pregunta específica del usuario\n",
    "pregunta_usuario = \"¿Quién es Leo Messi?\"\n",
    "\n",
    "# Combinar prompt + pregunta\n",
    "prompt_final = f\"{prompt_base}\\n\\nPregunta del estudiante: {pregunta_usuario}\"\n",
    "\n",
    "# Hacer la consulta\n",
    "respuesta = query_engine.query(prompt_final)\n",
    "\n",
    "# Mostrar resultado\n",
    "print(respuesta.response)"
   ]
  }
 ],
 "metadata": {
  "accelerator": "GPU",
  "colab": {
   "authorship_tag": "ABX9TyNtZcedlayZ/fTi6e3o/BkX",
   "gpuType": "T4",
   "provenance": []
  },
  "kernelspec": {
   "display_name": "Python 3",
   "name": "python3"
  },
  "language_info": {
   "name": "python"
  }
 },
 "nbformat": 4,
 "nbformat_minor": 0
}
